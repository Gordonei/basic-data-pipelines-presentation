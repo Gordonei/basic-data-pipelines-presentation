{
 "cells": [
  {
   "cell_type": "markdown",
   "metadata": {
    "slideshow": {
     "slide_type": "slide"
    }
   },
   "source": [
    "<h1> Basic Data Pipelines with <img style=\"display: inline; align: middle\" src=\"imgs/pin_small.png\"> and <img style=\"display: inline; align: middle\" src=\"imgs/docker_small.png\"> [and <img style=\"display: inline; align: middle\" src=\"imgs/k8s_small.png\">] </h1>\n",
    "<h3> From Zero to ETL with Minimal Fuss </h3>\n",
    "<h5> Gordon Inggs, Data Scientist, <b>in his private capacity</b> </h5>"
   ]
  },
  {
   "cell_type": "markdown",
   "metadata": {
    "slideshow": {
     "slide_type": "slide"
    }
   },
   "source": [
    "# Talk Outline\n",
    "1. Why do this to yourself?\n",
    "2. What do we get from using Airflow, Docker and Kubernetes?\n",
    "3. How to do this right now?\n",
    "4. Reflection:\n",
    "  1. Why is this a bad idea?\n",
    "  2. How to do this better?"
   ]
  },
  {
   "cell_type": "markdown",
   "metadata": {
    "slideshow": {
     "slide_type": "slide"
    }
   },
   "source": [
    "# 1. Why do you want a data ~~engineer~~ pipeline?\n",
    "![](imgs/whyyyy.gif)"
   ]
  },
  {
   "cell_type": "markdown",
   "metadata": {
    "slideshow": {
     "slide_type": "fragment"
    }
   },
   "source": [
    "* Automation"
   ]
  },
  {
   "cell_type": "markdown",
   "metadata": {
    "slideshow": {
     "slide_type": "fragment"
    }
   },
   "source": [
    "* Modularity"
   ]
  },
  {
   "cell_type": "markdown",
   "metadata": {
    "slideshow": {
     "slide_type": "subslide"
    }
   },
   "source": [
    "## (**awkward shoehorn**) Control vs Data flow\n",
    "![](./imgs/assembly_line.gif)"
   ]
  },
  {
   "cell_type": "markdown",
   "metadata": {
    "slideshow": {
     "slide_type": "subslide"
    }
   },
   "source": [
    "![](imgs/datapipeline_diagram.png)"
   ]
  },
  {
   "cell_type": "markdown",
   "metadata": {
    "slideshow": {
     "slide_type": "subslide"
    }
   },
   "source": [
    "## Our Experience\n",
    "* Airflow + Docker - 0 to ~5 data pipelines.\n",
    "* Airflow + Docker + Kubernetes - scaling past 5"
   ]
  },
  {
   "cell_type": "markdown",
   "metadata": {
    "slideshow": {
     "slide_type": "slide"
    }
   },
   "source": [
    "# 2.1 Why do you want to use Airflow?\n",
    "![](imgs/airblowing.gif)"
   ]
  },
  {
   "cell_type": "markdown",
   "metadata": {
    "slideshow": {
     "slide_type": "subslide"
    }
   },
   "source": [
    "## What is Airflow?\n",
    "![](imgs/airflow-example-dag.png)"
   ]
  },
  {
   "cell_type": "markdown",
   "metadata": {
    "slideshow": {
     "slide_type": "subslide"
    }
   },
   "source": [
    "## Visibility\n",
    "![](imgs/airflow_visibility.png)"
   ]
  },
  {
   "cell_type": "markdown",
   "metadata": {
    "slideshow": {
     "slide_type": "subslide"
    }
   },
   "source": [
    "## Visibility (again)\n",
    "![](imgs/airflow_visibility_II.png)"
   ]
  },
  {
   "cell_type": "markdown",
   "metadata": {
    "slideshow": {
     "slide_type": "subslide"
    }
   },
   "source": [
    "## Visibility (yet again)\n",
    "![](imgs/r3_data_pipeline.png)"
   ]
  },
  {
   "cell_type": "markdown",
   "metadata": {
    "slideshow": {
     "slide_type": "subslide"
    }
   },
   "source": [
    "## Expressiveness\n",
    "![](imgs/airflow-example-dag2.png)"
   ]
  },
  {
   "cell_type": "markdown",
   "metadata": {
    "slideshow": {
     "slide_type": "slide"
    }
   },
   "source": [
    "# 2.2 Why do you want to use Docker (with Airflow)?\n",
    "![](imgs/flopping.gif)"
   ]
  },
  {
   "cell_type": "markdown",
   "metadata": {
    "slideshow": {
     "slide_type": "subslide"
    }
   },
   "source": [
    "## Dependency Closure\n",
    "![](imgs/docker-closure.jpg)"
   ]
  },
  {
   "cell_type": "markdown",
   "metadata": {
    "slideshow": {
     "slide_type": "subslide"
    }
   },
   "source": [
    "## Resource-efficient Isolation\n",
    "![](imgs/docker_isolation.png)"
   ]
  },
  {
   "cell_type": "markdown",
   "metadata": {
    "slideshow": {
     "slide_type": "slide"
    }
   },
   "source": [
    "# 2.3 And Kubernetes!?!\n",
    "![](imgs/octo-uni.gif)"
   ]
  },
  {
   "cell_type": "markdown",
   "metadata": {
    "slideshow": {
     "slide_type": "subslide"
    }
   },
   "source": [
    "## One (sort-of) word: Scaling\n",
    "![](imgs/k8s_airflow_loadbalancing.png)"
   ]
  },
  {
   "cell_type": "markdown",
   "metadata": {
    "slideshow": {
     "slide_type": "slide"
    }
   },
   "source": [
    "# 3. How to do this Right Now\n",
    "![](imgs/rightnow.gif)"
   ]
  },
  {
   "cell_type": "markdown",
   "metadata": {
    "slideshow": {
     "slide_type": "subslide"
    }
   },
   "source": [
    "## What you need:\n",
    "Using your *ahem* bare metal, FOSS Data Science Env."
   ]
  },
  {
   "cell_type": "markdown",
   "metadata": {
    "slideshow": {
     "slide_type": "fragment"
    }
   },
   "source": [
    "* Airflow Checklist:\n",
    "  * `LocalExecutor`.\n",
    "  * Separate DB for Airflow state - PostgreSQL, MySQL, etc.\n",
    "  * Docker/Kubernetes Python SDK\n",
    "  * Docker: Read/write access to Docker socket (`/var/run/docker.sock`)\n",
    "  * k8s: Read/write access to k8s API\n",
    "  \n",
    "[Large public sector organisation Airflow Docker image](https://github.com/cityofcapetown/airflow_docker_datapipelines)."
   ]
  },
  {
   "cell_type": "markdown",
   "metadata": {
    "slideshow": {
     "slide_type": "subslide"
    }
   },
   "source": [
    "![](imgs/r3_data_graph.png)"
   ]
  },
  {
   "cell_type": "markdown",
   "metadata": {
    "slideshow": {
     "slide_type": "fragment"
    }
   },
   "source": [
    "* Docker Checklist:\n",
    "  * Docker images with dependencies\n",
    "  * Scripts to run tasks inside images:\n",
    "    ```bash\n",
    "    #!/usr/bin/env bash\n",
    "\n",
    "    PYTHONPATH=\"$PIPELINE_DIR\" python3 \"$PIPELINE_DIR\"/my_module/my_task.py\n",
    "    ```"
   ]
  },
  {
   "cell_type": "code",
   "execution_count": null,
   "metadata": {
    "slideshow": {
     "slide_type": "subslide"
    }
   },
   "outputs": [],
   "source": [
    "def pipeline_docker_task(task_name):\n",
    "    \"\"\"Function inside Airflow DAG\"\"\"\n",
    "    docker_name = f\"{PIPELINE_PREFIX}-{task_name}-{str(uuid.uuid4())}\"\n",
    "    docker_command = f\"bash -c '/run_{task_name}.sh'\"\n",
    "\n",
    "    operation_run = docker_client.containers.run(\n",
    "        name=docker_name,\n",
    "        command=docker_command,\n",
    "        **docker_run_args\n",
    "    )\n",
    "\n",
    "    return operation_run.decode(\"utf-8\")\n",
    "\n",
    "# Node in dag\n",
    "pipeline_operator = PythonOperator(\n",
    "    task_id=TASK_ID,\n",
    "    python_callable=pipeline_docker_task,\n",
    "    op_args=[TASK_NAME],\n",
    "    dag=dag,\n",
    ")"
   ]
  },
  {
   "cell_type": "markdown",
   "metadata": {
    "slideshow": {
     "slide_type": "subslide"
    }
   },
   "source": [
    "![](imgs/r3_data_graph.png)"
   ]
  },
  {
   "cell_type": "markdown",
   "metadata": {
    "slideshow": {
     "slide_type": "fragment"
    }
   },
   "source": [
    "* Kubernetes Checklist:\n",
    "  * Docker images with dependencies\n",
    "  * Scripts to run tasks inside images:\n",
    "    ```bash\n",
    "    #!/usr/bin/env bash\n",
    "\n",
    "    PYTHONPATH=\"$PIPELINE_DIR\" python3 \"$PIPELINE_DIR\"/my_module/my_task.py\n",
    "    ```"
   ]
  },
  {
   "cell_type": "code",
   "execution_count": null,
   "metadata": {
    "slideshow": {
     "slide_type": "subslide"
    }
   },
   "outputs": [],
   "source": [
    "def pipeline_k8s_operator(task_name, kwargs):\n",
    "    \"\"\"Factory for k8sPodOperator\"\"\"\n",
    "    name = f\"{PIPELINE_PREFIX}-{task_name}\"\n",
    "    run_args = {**k8s_run_args.copy(), **kwargs}\n",
    "    run_cmd = f\"bash -c '/run_{task_name}.sh'\"\n",
    "\n",
    "    operator = KubernetesPodOperator(\n",
    "        cmds=[\"bash\", \"-cx\"],\n",
    "        arguments=[run_cmd],\n",
    "        name=name, task_id=name,\n",
    "        dag=dag,\n",
    "        **run_args\n",
    "    )\n",
    "\n",
    "    return operator\n",
    "\n",
    "pipeline_operator = pipeline_k8s_operator(\n",
    "    TASK_NAME,\n",
    "    K8S_KWARGS\n",
    ")"
   ]
  },
  {
   "cell_type": "markdown",
   "metadata": {
    "slideshow": {
     "slide_type": "slide"
    }
   },
   "source": [
    "# 4. Why is this a Bad Idea?\n",
    "![](imgs/badidea.gif)"
   ]
  },
  {
   "cell_type": "markdown",
   "metadata": {
    "slideshow": {
     "slide_type": "subslide"
    }
   },
   "source": [
    "## Problems we've run into (so far)"
   ]
  },
  {
   "cell_type": "markdown",
   "metadata": {
    "slideshow": {
     "slide_type": "fragment"
    }
   },
   "source": [
    "* Loading DAGs into Airflow"
   ]
  },
  {
   "cell_type": "markdown",
   "metadata": {
    "slideshow": {
     "slide_type": "fragment"
    }
   },
   "source": [
    "* Scaling beyond one docker host"
   ]
  },
  {
   "cell_type": "markdown",
   "metadata": {
    "slideshow": {
     "slide_type": "fragment"
    }
   },
   "source": [
    "* Weird Docker performance problems:\n",
    "    * Noisy neighbours\n",
    "    * Heavy load on Docker daemon\n",
    "    * containerisation $\\neq$ virtualisation"
   ]
  },
  {
   "cell_type": "markdown",
   "metadata": {
    "slideshow": {
     "slide_type": "subslide"
    }
   },
   "source": [
    "![](imgs/IDK.gif)"
   ]
  },
  {
   "cell_type": "markdown",
   "metadata": {
    "slideshow": {
     "slide_type": "slide"
    }
   },
   "source": [
    "# 5. How to do this better?\n",
    "![](imgs/learning.gif)"
   ]
  },
  {
   "cell_type": "markdown",
   "metadata": {
    "slideshow": {
     "slide_type": "subslide"
    }
   },
   "source": [
    "## Improving\n",
    "**Bar to beat: 6 months to a year, no dedicated administration**"
   ]
  },
  {
   "cell_type": "markdown",
   "metadata": {
    "slideshow": {
     "slide_type": "fragment"
    }
   },
   "source": [
    "* Serverless containers (e.g. AWS Fargate)\n",
    "* **Kubernetes (scaling)** - this is the route we took. #NoRegrets"
   ]
  },
  {
   "cell_type": "markdown",
   "metadata": {
    "slideshow": {
     "slide_type": "subslide"
    }
   },
   "source": [
    "## Different Paradigm\n",
    "**Warning: Speculative**"
   ]
  },
  {
   "cell_type": "markdown",
   "metadata": {
    "slideshow": {
     "slide_type": "fragment"
    }
   },
   "source": [
    "* $\\mu$Service Architecture - even more modular\n",
    "* Declarative/reconciliation approach"
   ]
  },
  {
   "cell_type": "markdown",
   "metadata": {
    "slideshow": {
     "slide_type": "slide"
    }
   },
   "source": [
    "# Thank You!\n",
    "\n",
    "![](imgs/thankyou.gif)\n",
    "\n",
    "## Questions?\n"
   ]
  }
 ],
 "metadata": {
  "celltoolbar": "Slideshow",
  "kernelspec": {
   "display_name": "Python 3",
   "language": "python",
   "name": "python3"
  },
  "language_info": {
   "codemirror_mode": {
    "name": "ipython",
    "version": 3
   },
   "file_extension": ".py",
   "mimetype": "text/x-python",
   "name": "python",
   "nbconvert_exporter": "python",
   "pygments_lexer": "ipython3",
   "version": "3.6.8"
  }
 },
 "nbformat": 4,
 "nbformat_minor": 4
}
