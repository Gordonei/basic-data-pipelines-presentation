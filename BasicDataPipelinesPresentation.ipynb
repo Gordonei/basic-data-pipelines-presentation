{
 "cells": [
  {
   "cell_type": "markdown",
   "metadata": {
    "slideshow": {
     "slide_type": "slide"
    }
   },
   "source": [
    "# Basic Data Pipelines with ![](imgs/pin_small.png) and ![](imgs/docker_small.png)\n",
    "## From Zero to ETL with Minimal Fuss\n",
    "#### Gordon Inggs, Data Scientist, *in his private capacity*"
   ]
  },
  {
   "cell_type": "markdown",
   "metadata": {
    "slideshow": {
     "slide_type": "slide"
    }
   },
   "source": [
    "# Talk Outline\n",
    "1. Why do this to yourself?\n",
    "2. What do we get from using Airflow and Docker?\n",
    "3. How to do this right now?\n",
    "4. Why is a bad idea?\n",
    "5. How to do this better?"
   ]
  },
  {
   "cell_type": "markdown",
   "metadata": {
    "slideshow": {
     "slide_type": "slide"
    }
   },
   "source": [
    "# 1. Why do you want a data ~~engineer~~ pipeline?\n",
    "![](imgs/whyyyy.gif)"
   ]
  },
  {
   "cell_type": "markdown",
   "metadata": {
    "slideshow": {
     "slide_type": "fragment"
    }
   },
   "source": [
    "* Need to do Extract Transform Load (ETL) on a regular basis/in realtime.\n",
    "* Separation of concerns AKA modularity\n",
    "* (**awkward shoehorn**) Control vs Data flow."
   ]
  },
  {
   "cell_type": "markdown",
   "metadata": {
    "slideshow": {
     "slide_type": "subslide"
    }
   },
   "source": [
    "![](./imgs/assembly_line.gif)"
   ]
  },
  {
   "cell_type": "markdown",
   "metadata": {
    "slideshow": {
     "slide_type": "subslide"
    }
   },
   "source": [
    "This is a good way to get from 0 to ~5 data pipelines."
   ]
  },
  {
   "cell_type": "markdown",
   "metadata": {
    "slideshow": {
     "slide_type": "slide"
    }
   },
   "source": [
    "# 2.1 Why do you want to use Airflow?\n",
    "![](imgs/airblowing.gif)"
   ]
  },
  {
   "cell_type": "markdown",
   "metadata": {
    "slideshow": {
     "slide_type": "subslide"
    }
   },
   "source": [
    "## What is Airflow?\n",
    "![](imgs/airflow-example-dag.png)"
   ]
  },
  {
   "cell_type": "markdown",
   "metadata": {
    "slideshow": {
     "slide_type": "subslide"
    }
   },
   "source": [
    "## Visibility\n",
    "![](imgs/airflow_visibility.png)"
   ]
  },
  {
   "cell_type": "markdown",
   "metadata": {
    "slideshow": {
     "slide_type": "subslide"
    }
   },
   "source": [
    "## Visibility (again)\n",
    "![](imgs/airflow_visibility_II.png)"
   ]
  },
  {
   "cell_type": "markdown",
   "metadata": {
    "slideshow": {
     "slide_type": "subslide"
    }
   },
   "source": [
    "## Conditional Scheduling\n",
    "![](imgs/airflow-example-dag2.png)"
   ]
  },
  {
   "cell_type": "markdown",
   "metadata": {
    "slideshow": {
     "slide_type": "slide"
    }
   },
   "source": [
    "# 2.2 Why do you want to use Docker (inside Airflow)?\n",
    "![](imgs/flopping.gif)"
   ]
  },
  {
   "cell_type": "markdown",
   "metadata": {
    "slideshow": {
     "slide_type": "subslide"
    }
   },
   "source": [
    "## Resource efficient Isolation\n",
    "![](imgs/docker_isolation.png)"
   ]
  },
  {
   "cell_type": "markdown",
   "metadata": {
    "slideshow": {
     "slide_type": "subslide"
    }
   },
   "source": [
    "## Dependency Closure\n",
    "![](imgs/docker-closure.jpg)"
   ]
  },
  {
   "cell_type": "markdown",
   "metadata": {
    "slideshow": {
     "slide_type": "slide"
    }
   },
   "source": [
    "# 3. How to do this Right Now\n",
    "![](imgs/rightnow.gif)"
   ]
  },
  {
   "cell_type": "markdown",
   "metadata": {
    "slideshow": {
     "slide_type": "subslide"
    }
   },
   "source": [
    "## What you need:\n",
    "* Using your *ahem* bare metal, FOSS Data Science Env."
   ]
  },
  {
   "cell_type": "markdown",
   "metadata": {
    "slideshow": {
     "slide_type": "fragment"
    }
   },
   "source": [
    "* Airflow Checklist:\n",
    "  * `LocalExecutor`.\n",
    "  * Separate DB for Airflow state - PostgreSQL, MySQL, etc.\n",
    "  * Docker Python SDK\n",
    "  * Read/write access to Docker socket (`/var/run/docker.sock`)\n",
    "  \n",
    "[Large public sector organisation Airflow Docker image](https://github.com/cityofcapetown/airflow_docker_datapipelines)."
   ]
  },
  {
   "cell_type": "markdown",
   "metadata": {
    "slideshow": {
     "slide_type": "fragment"
    }
   },
   "source": [
    "* Docker Checklist:\n",
    "  * Docker images with dependencies\n",
    "  * Scripts to run tasks inside images:\n",
    "    ```bash\n",
    "    #!/usr/bin/env bash\n",
    "\n",
    "    PYTHONPATH=\"$PIPELINE_DIR\" python3 \"$PIPELINE_DIR\"/my_module/my_task.py\n",
    "    ```"
   ]
  },
  {
   "cell_type": "code",
   "execution_count": 1,
   "metadata": {
    "slideshow": {
     "slide_type": "subslide"
    }
   },
   "outputs": [],
   "source": [
    "def pipeline_task(task_name):\n",
    "    docker_name = \"-\".join([\n",
    "        PIPELINE_PREFIX,\n",
    "        task_name,\n",
    "        str(uuid.uuid4())\n",
    "    ])\n",
    "\n",
    "    run_args = docker_run_args.copy()\n",
    "    docker_command = \"bash -c '/run_{}.sh'\".format(task_name)\n",
    "\n",
    "    operation_run = docker_client.containers.run(\n",
    "        name=docker_name,\n",
    "        command=docker_command,\n",
    "        **run_args\n",
    "    )\n",
    "\n",
    "    return operation_run.decode(\"utf-8\")"
   ]
  },
  {
   "cell_type": "markdown",
   "metadata": {
    "slideshow": {
     "slide_type": "slide"
    }
   },
   "source": [
    "# 4. Why is this a Bad Idea?\n",
    "![](imgs/badidea.gif)"
   ]
  },
  {
   "cell_type": "markdown",
   "metadata": {
    "slideshow": {
     "slide_type": "subslide"
    }
   },
   "source": [
    "## Problems we've run into\n",
    "* Loading DAGs into Airflow"
   ]
  },
  {
   "cell_type": "markdown",
   "metadata": {
    "slideshow": {
     "slide_type": "fragment"
    }
   },
   "source": [
    "* Scaling beyond one docker host"
   ]
  },
  {
   "cell_type": "markdown",
   "metadata": {
    "slideshow": {
     "slide_type": "fragment"
    }
   },
   "source": [
    "* Weird performance problems:\n",
    "    * noisy neighbours\n",
    "    * Heavy load on Docker daemon\n",
    "    * containerisation $\\neq$ virtualisation"
   ]
  },
  {
   "cell_type": "markdown",
   "metadata": {
    "slideshow": {
     "slide_type": "subslide"
    }
   },
   "source": [
    "![](imgs/IDK.gif)"
   ]
  },
  {
   "cell_type": "markdown",
   "metadata": {
    "slideshow": {
     "slide_type": "slide"
    }
   },
   "source": [
    "# 5. How to do this better?\n",
    "![](imgs/learning.gif)"
   ]
  },
  {
   "cell_type": "markdown",
   "metadata": {
    "slideshow": {
     "slide_type": "subslide"
    }
   },
   "source": [
    "## Improving\n",
    "**Bar to beat: 6 months to a year, no dedicated administration**\n",
    "\n",
    "* Serverless containers (e.g. AWS Fargate)\n",
    "* Kubernetes (scaling)"
   ]
  },
  {
   "cell_type": "markdown",
   "metadata": {
    "slideshow": {
     "slide_type": "subslide"
    }
   },
   "source": [
    "## Different Paradigm\n",
    "**Warning: Speculative**\n",
    "* $\\mu$Service Architecture - even more modular\n",
    "* Declarative/reconcilation approach"
   ]
  },
  {
   "cell_type": "markdown",
   "metadata": {
    "slideshow": {
     "slide_type": "slide"
    }
   },
   "source": [
    "# Thank You!\n",
    "\n",
    "![](imgs/thankyou.gif)\n",
    "\n",
    "## Questions?\n"
   ]
  }
 ],
 "metadata": {
  "celltoolbar": "Slideshow",
  "kernelspec": {
   "display_name": "Python 3",
   "language": "python",
   "name": "python3"
  },
  "language_info": {
   "codemirror_mode": {
    "name": "ipython",
    "version": 3
   },
   "file_extension": ".py",
   "mimetype": "text/x-python",
   "name": "python",
   "nbconvert_exporter": "python",
   "pygments_lexer": "ipython3",
   "version": "3.7.3"
  }
 },
 "nbformat": 4,
 "nbformat_minor": 4
}
