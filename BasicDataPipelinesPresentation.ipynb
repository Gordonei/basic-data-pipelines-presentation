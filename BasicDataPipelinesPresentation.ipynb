{
 "cells": [
  {
   "cell_type": "markdown",
   "metadata": {
    "slideshow": {
     "slide_type": "slide"
    }
   },
   "source": [
    "# Basic Data Pipelines with ![](imgs/pin_small.png) and ![](imgs/docker_small.png)\n",
    "## From Zero to ETL with Minimal Fuss\n",
    "#### Gordon Inggs, Data Scientist, *in his private capacity*"
   ]
  },
  {
   "cell_type": "markdown",
   "metadata": {
    "slideshow": {
     "slide_type": "slide"
    }
   },
   "source": [
    "# Talk Outline\n",
    "1. Why do this to yourself?\n",
    "2. What do we get from using Airflow and Docker?\n",
    "3. How to do this right now?\n",
    "4. Why is a bad idea?\n",
    "5. How to do this better?"
   ]
  },
  {
   "cell_type": "markdown",
   "metadata": {
    "slideshow": {
     "slide_type": "slide"
    }
   },
   "source": [
    "![](imgs/whyyyy.gif)"
   ]
  },
  {
   "cell_type": "markdown",
   "metadata": {
    "slideshow": {
     "slide_type": "slide"
    }
   },
   "source": [
    "# 1. Why do you want a data ~~engineer~~ pipeline?\n",
    "* Need to do Extract Transform Load (ETL) on a regular basis/in realtime.\n",
    "* Desireable to separate out different steps in action.\n",
    "* (awkward shoehorn) Control vs Data flow.\n",
    "* This is a good way to get from 0 to ~5 data pipelines."
   ]
  },
  {
   "cell_type": "markdown",
   "metadata": {
    "slideshow": {
     "slide_type": "slide"
    }
   },
   "source": [
    "# 2.1 Why do you want to use Airflow?\n",
    "* What is Airflow?\n",
    "* **Visibility!!!**\n",
    "\n",
    "![](imgs/airflow_visibility.png)\n",
    "\n",
    "![](imgs/airflow_visibility_II.png)\n",
    "\n",
    "* Scheduling and conditionality"
   ]
  },
  {
   "cell_type": "markdown",
   "metadata": {
    "slideshow": {
     "slide_type": "slide"
    }
   },
   "source": [
    "# 2.2 Why do you want to use Docker?\n",
    "* Isolation\n",
    "* Security\n",
    "* Dependency closure"
   ]
  },
  {
   "cell_type": "markdown",
   "metadata": {
    "slideshow": {
     "slide_type": "slide"
    }
   },
   "source": [
    "# 3. How to do this Right Now\n",
    "* Using your *ahem* bare metal, FOSS Data Science Env.\n",
    "* Airflow using `LocalExecutor`.\n",
    "* This requires a separate state DB - postgres, mysql, etc.\n",
    "* Read/Write Access to Docker socket (`/var/run/docker.sock`)\n",
    "* Tasks wrapped into Docker images, with scripts. Run tasks using Docker Python SDK.\n",
    "* [Large public sector organisation Docker image](https://github.com/cityofcapetown/airflow_docker_datapipelines)."
   ]
  },
  {
   "cell_type": "markdown",
   "metadata": {
    "slideshow": {
     "slide_type": "slide"
    }
   },
   "source": [
    "# 4. Why is this a Bad Idea?\n",
    "* Loading DAGs into Airflow\n",
    "* Scaling beyond one machine (mention crazy Celery scheme)\n",
    "* Weird performance problems:\n",
    "    * noisy neighbours\n",
    "    * Heavy load on Docker daemon\n",
    "    * containerisation $\\neq$ virtualisation"
   ]
  },
  {
   "cell_type": "markdown",
   "metadata": {
    "slideshow": {
     "slide_type": "slide"
    }
   },
   "source": [
    "# 5. How to do this better?\n",
    "* 6 months to a year, no dedicated administration\n",
    "* Kubernetes (scaling)\n",
    "* Serverless containers (e.g. AWS Fargate)\n",
    "* Different paradigm - declarative approach."
   ]
  },
  {
   "cell_type": "markdown",
   "metadata": {
    "slideshow": {
     "slide_type": "slide"
    }
   },
   "source": [
    "# Thank You!\n",
    "\n",
    "![](imgs/thankyou.gif)\n",
    "\n",
    "## Questions?\n"
   ]
  }
 ],
 "metadata": {
  "kernelspec": {
   "display_name": "Python 3",
   "language": "python",
   "name": "python3"
  },
  "language_info": {
   "codemirror_mode": {
    "name": "ipython",
    "version": 3
   },
   "file_extension": ".py",
   "mimetype": "text/x-python",
   "name": "python",
   "nbconvert_exporter": "python",
   "pygments_lexer": "ipython3",
   "version": "3.6.8"
  }
 },
 "nbformat": 4,
 "nbformat_minor": 4
}
